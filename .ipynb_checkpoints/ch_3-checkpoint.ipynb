{
 "cells": [
  {
   "cell_type": "code",
   "execution_count": 3,
   "id": "da637139-3a0c-4c37-8ff1-909f978c9781",
   "metadata": {},
   "outputs": [
    {
     "name": "stdout",
     "output_type": "stream",
     "text": [
      "Mean donation over 12 days is 477.75\n"
     ]
    }
   ],
   "source": [
    "def calculate_mean(num):\n",
    "    s = sum(num)\n",
    "    n = len(num)\n",
    "    mean = s / n\n",
    "    return mean\n",
    "if __name__ == \"__main__\":\n",
    "    donations = [100, 60, 70, 900, 100, 200, 500, 500, 503, 600, 1000, 1200]\n",
    "    mean = calculate_mean(donations)\n",
    "    print(f'Mean donation over {len(donations)} days is {mean}')"
   ]
  },
  {
   "cell_type": "code",
   "execution_count": 21,
   "id": "c258954e-4a85-4002-be1b-2571bd57b7c9",
   "metadata": {},
   "outputs": [
    {
     "name": "stdout",
     "output_type": "stream",
     "text": [
      "Median donation over last 12 days is 500.0\n"
     ]
    }
   ],
   "source": [
    "def calculate_median(num):\n",
    "    num.sort()\n",
    "    n = len(num)\n",
    "    if n % 2 !=0:\n",
    "        m = (n // 2)\n",
    "        median = num[m]\n",
    "    else:\n",
    "        m1 = (n//2) - 1\n",
    "        m2 = ((n//2))\n",
    "        median = (num[m1] + num[m2]) / 2\n",
    "    return median\n",
    "if __name__ == \"__main__\":\n",
    "    donations = [100, 60, 70, 900, 100, 200, 500, 500, 503, 600, 1000, 1200]\n",
    "    n = len(donations)\n",
    "    median = calculate_median(donations)\n",
    "    print(f'Median donation over last {n} days is {median}')"
   ]
  },
  {
   "cell_type": "code",
   "execution_count": 26,
   "id": "77c7fbb5-3e5b-4e67-8acc-42332e077248",
   "metadata": {},
   "outputs": [
    {
     "data": {
      "text/plain": [
       "[(4, 2), (2, 1), (1, 1), (3, 1)]"
      ]
     },
     "execution_count": 26,
     "metadata": {},
     "output_type": "execute_result"
    }
   ],
   "source": [
    "from collections import Counter\n",
    "sample = [4,2,1,3,4]\n",
    "c = Counter(sample)\n",
    "c.most_common()"
   ]
  },
  {
   "cell_type": "code",
   "execution_count": 27,
   "id": "0e4d5529-08e3-442d-9b96-de00db3466ad",
   "metadata": {},
   "outputs": [
    {
     "name": "stdout",
     "output_type": "stream",
     "text": [
      "The mode of the given numbers: 9\n"
     ]
    }
   ],
   "source": [
    "def calculate_mode(num):\n",
    "    c = Counter(num)\n",
    "    mode = c.most_common(1)\n",
    "    return mode[0][0]\n",
    "if __name__ == \"__main__\":\n",
    "    scores = [7, 8, 9, 2, 10, 9, 9, 9, 9, 4, 5, 6, 1, 5, 6, 7, 8, 6, 1, 10]\n",
    "    mode = calculate_mode(scores)\n",
    "    print(f'The mode of the given numbers: {mode}')"
   ]
  },
  {
   "cell_type": "code",
   "execution_count": 1,
   "id": "750c977d-e0c6-400e-ba32-232d02a51dab",
   "metadata": {},
   "outputs": [
    {
     "name": "stdout",
     "output_type": "stream",
     "text": [
      "The mode(s) of the list of the numbers are: \n",
      "5\n",
      "4\n"
     ]
    }
   ],
   "source": [
    "# if two or more number of mode occurs\n",
    "from collections import Counter\n",
    "def calculate_mode(num):\n",
    "    c = Counter(num)\n",
    "    num_freq = c.most_common()\n",
    "    max_count = num_freq[0][1]\n",
    "    modes = []\n",
    "    for num in num_freq:\n",
    "        if num[1] == max_count:\n",
    "            modes.append(num[0])\n",
    "    return modes\n",
    "if __name__ == \"__main__\":\n",
    "    scores = [5,5,5,4,4,4,9,1,3]\n",
    "    modes = calculate_mode(scores)\n",
    "    print('The mode(s) of the list of the numbers are: ')\n",
    "    for mode in modes:\n",
    "        print(mode)"
   ]
  },
  {
   "cell_type": "code",
   "execution_count": 15,
   "id": "ca1afca4-5cf1-48ce-aa2f-fae63b6916eb",
   "metadata": {},
   "outputs": [
    {
     "name": "stdout",
     "output_type": "stream",
     "text": [
      "Number\tFrequency\n",
      "9\t5\n",
      "6\t3\n",
      "7\t2\n",
      "8\t2\n",
      "10\t2\n",
      "5\t2\n",
      "1\t2\n",
      "2\t1\n",
      "4\t1\n"
     ]
    }
   ],
   "source": [
    "from collections import Counter\n",
    "def frequency_table(num):\n",
    "    table = Counter(num)\n",
    "    print('Number\\tFrequency')\n",
    "    for number in table.most_common():\n",
    "        print(f'{number[0]}\\t{number[1]}')\n",
    "if __name__ == \"__main__\":\n",
    "    scores = [7, 8, 9, 2, 10, 9, 9, 9, 9, 4, 5, 6, 1, 5, 6, 7, 8, 6, 1, 10]\n",
    "    frequency_table(scores)"
   ]
  },
  {
   "cell_type": "code",
   "execution_count": 38,
   "id": "e9991d87-f3ec-4734-9b56-5f1caed51bd5",
   "metadata": {},
   "outputs": [
    {
     "name": "stdout",
     "output_type": "stream",
     "text": [
      "Number\tFrequency\n",
      "1\t2\n",
      "2\t1\n",
      "4\t1\n",
      "5\t2\n",
      "6\t3\n",
      "7\t2\n",
      "8\t2\n",
      "9\t5\n",
      "10\t2\n"
     ]
    }
   ],
   "source": [
    "from collections import Counter\n",
    "def frequency_table(num):\n",
    "    table = Counter(num)\n",
    "    num_freq = table.most_common()\n",
    "    num_freq.sort()\n",
    "    \n",
    "    print('Number\\tFrequency')\n",
    "    for number in num_freq:\n",
    "        print(f'{number[0]}\\t{number[1]}')\n",
    "if __name__ == \"__main__\":\n",
    "    scores = [7, 8, 9, 2, 10, 9, 9, 9, 9, 4, 5, 6, 1, 5, 6, 7, 8, 6, 1, 10]\n",
    "    frequency_table(scores)"
   ]
  },
  {
   "cell_type": "code",
   "execution_count": null,
   "id": "6b9927cb-4c87-46c2-84f7-3e996e028374",
   "metadata": {},
   "outputs": [],
   "source": [
    "def find_range(numbers):\n",
    "    lowest = min(numbers)\n",
    "    highest = max(numbers)\n",
    "    range_num = highest - lowest\n",
    "    return lowest, highest, r\n",
    "\n",
    "if __name__ == \"__main__\":\n",
    "    "
   ]
  },
  {
   "cell_type": "code",
   "execution_count": 17,
   "id": "f53ffe78-74cf-4fb7-808c-bbbb4b5d6a8b",
   "metadata": {},
   "outputs": [
    {
     "name": "stdout",
     "output_type": "stream",
     "text": [
      "The variance of the list of numbers is 141047.35416666666\n",
      "The standard deviation of the list of numbers is 375.5627166887931\n"
     ]
    }
   ],
   "source": [
    "def calculate_mean(numbers):\n",
    "    s = sum(numbers)\n",
    "    N = len(numbers)\n",
    "    # Calculate the mean\n",
    "    mean = s/N\n",
    "    return mean\n",
    "def find_differences(numbers):\n",
    "    # Find the mean    \n",
    "    mean = calculate_mean(numbers)\n",
    "    # Find the differences from the mean\n",
    "    diff = []\n",
    "    for num in numbers:\n",
    "        diff.append(num-mean)\n",
    "    return diff\n",
    "def calculate_variance(numbers):\n",
    "    # Find the list of differences\n",
    "    diff = find_differences(numbers)\n",
    "    # Find the squared differences\n",
    "    squared_diff = []\n",
    "    for d in diff:\n",
    "        squared_diff.append(d**2)\n",
    "    # Find the variance\n",
    "    sum_squared_diff = sum(squared_diff)\n",
    "    variance = sum_squared_diff/len(numbers)\n",
    "    return variance\n",
    "if __name__ == '__main__':\n",
    "    donations = [100, 60, 70, 900, 100, 200, 500, 500, 503, 600, 1000, 1200]  \n",
    "    variance = calculate_variance(donations)\n",
    "    print('The variance of the list of numbers is {0}'.format(variance))\n",
    "    std = variance**0.5\n",
    "    print('The standard deviation of the list of numbers is {0}'.format(std))"
   ]
  },
  {
   "cell_type": "code",
   "execution_count": 5,
   "id": "e8b2d504-9ef4-43d0-a81b-21626f4c2852",
   "metadata": {},
   "outputs": [],
   "source": [
    " def find_corr_x_y(x,y):\n",
    "    n = len(x)\n",
    "    # Find the sum of the products\n",
    "    prod = []\n",
    "    for xi,yi in zip(x,y):\n",
    "       prod.append(xi*yi)\n",
    "    sum_prod_x_y = sum(prod)\n",
    "    sum_x = sum(x)\n",
    "    sum_y = sum(y)\n",
    "    squared_sum_x = sum_x**2\n",
    "    squared_sum_y = sum_y**2    \n",
    "    x_square = []\n",
    "    for xi in x:\n",
    "        x_square.append(xi**2)\n",
    "    # Find the sum\n",
    "    x_square_sum = sum(x_square)\n",
    "    \n",
    "    y_square=[]\n",
    "    for yi in y:\n",
    "        y_square.append(yi**2)\n",
    "    # Find the sum\n",
    "    y_square_sum = sum(y_square)\n",
    "\n",
    "    # Use formula to calculate correlation\n",
    "    numerator = n*sum_prod_x_y - sum_x*sum_y\n",
    "    denominator_term1 = n*x_square_sum - squared_sum_x\n",
    "    denominator_term2 = n*y_square_sum - squared_sum_y\n",
    "    denominator = (denominator_term1*denominator_term2)**0.5\n",
    "    correlation = numerator/denominator\n",
    "    return correlation "
   ]
  },
  {
   "cell_type": "code",
   "execution_count": 22,
   "id": "e510daf9-4d97-458d-bf28-5cf2edde6406",
   "metadata": {},
   "outputs": [
    {
     "data": {
      "text/plain": [
       "0.737043474095502"
      ]
     },
     "execution_count": 22,
     "metadata": {},
     "output_type": "execute_result"
    }
   ],
   "source": [
    "# 1 \n",
    "def find_corr_x_y(x,y):\n",
    "    n = len(x)\n",
    "    # Find the sum of the products\n",
    "    prod = []\n",
    "    for xi,yi in zip(x,y):\n",
    "       prod.append(xi*yi)\n",
    "    sum_prod_x_y = sum(prod)\n",
    "    sum_x = sum(x)\n",
    "    sum_y = sum(y)\n",
    "    squared_sum_x = sum_x**2\n",
    "    squared_sum_y = sum_y**2    \n",
    "    x_square = []\n",
    "    for xi in x:\n",
    "        x_square.append(xi**2)\n",
    "    # Find the sum\n",
    "    x_square_sum = sum(x_square)\n",
    "    \n",
    "    y_square=[]\n",
    "    for yi in y:\n",
    "        y_square.append(yi**2)\n",
    "    # Find the sum\n",
    "    y_square_sum = sum(y_square)\n",
    "\n",
    "    # Use formula to calculate correlation\n",
    "    numerator = n*sum_prod_x_y - sum_x*sum_y\n",
    "    denominator_term1 = n*x_square_sum - squared_sum_x\n",
    "    denominator_term2 = n*y_square_sum - squared_sum_y\n",
    "    denominator = (denominator_term1*denominator_term2)**0.5\n",
    "    correlation = numerator/denominator\n",
    "    if len(x) == len(y):\n",
    "        return correlation\n",
    "    else:\n",
    "        return \"correlation can’t be found.\"\n",
    "find_corr_x_y([3,6,8], [2,5,4])"
   ]
  },
  {
   "cell_type": "code",
   "execution_count": 19,
   "id": "052eb3e8-78e8-44ab-85e8-c2c66e1444d0",
   "metadata": {},
   "outputs": [
    {
     "name": "stdout",
     "output_type": "stream",
     "text": [
      "Mean: 477.75\n",
      "Median: 500.0\n",
      "Mode: 100\n",
      "Varience: 141047.35416666666\n",
      "Standard deviation: 70523.67708333333\n"
     ]
    }
   ],
   "source": [
    "#2 Statistics calculator\n",
    "\n",
    "def calculate_mean(num): \n",
    "    s = sum(num)\n",
    "    n = len(num)\n",
    "    mean = s/n\n",
    "    return mean\n",
    "def calculate_median(num):\n",
    "    num.sort()\n",
    "    n = len(num)\n",
    "    if n % 2 !=0:\n",
    "        m = (n // 2)\n",
    "        median = num[m]\n",
    "    else:\n",
    "        m1 = (n//2) - 1\n",
    "        m2 = ((n//2))\n",
    "        median = (num[m1] + num[m2]) / 2\n",
    "    return median\n",
    "def calculate_mode(num):\n",
    "    c = Counter(num)\n",
    "    mode = c.most_common(1)\n",
    "    return mode[0][0]\n",
    "def calculate_variance(num):\n",
    "    # Find the list of differences\n",
    "    diff = find_differences(numbers)\n",
    "    # Find the squared differences\n",
    "    squared_diff = []\n",
    "    for d in diff:\n",
    "        squared_diff.append(d**2)\n",
    "    # Find the variance\n",
    "    sum_squared_diff = sum(squared_diff)\n",
    "    variance = sum_squared_diff/len(numbers)\n",
    "    return variance\n",
    "def calculate_std(num):\n",
    "    var = calculate_variance(num) \n",
    "    std = var * 0.5\n",
    "    return std\n",
    "if __name__ == \"__main__\":\n",
    "    fin = open('mydata.txt', 'r')\n",
    "    datas = fin.readlines()\n",
    "    numbers = []\n",
    "    for data in datas:\n",
    "        integer = int(data)\n",
    "        numbers.append(integer)\n",
    "    \n",
    "    print(f\"Mean: {calculate_mean(numbers)}\")\n",
    "    print(f\"Median: {calculate_median(numbers)}\")\n",
    "    print(f\"Mode: {calculate_mode(numbers)}\")\n",
    "    print(f\"Varience: {calculate_variance(numbers)}\")\n",
    "    print(f\"Standard deviation: {calculate_std(numbers)}\")"
   ]
  },
  {
   "cell_type": "code",
   "execution_count": null,
   "id": "b72ff7c3-78ae-4b90-8dd1-63359886e8d0",
   "metadata": {},
   "outputs": [],
   "source": [
    "#3 cant download the csv file\n",
    "import pandas as pd\n",
    "import matplotlib.pyplot as plt\n",
    "file = 'USA_population.csv'\n",
    "df = pd.read_csv(file)\n",
    "\n"
   ]
  },
  {
   "cell_type": "code",
   "execution_count": null,
   "id": "5f4f4571-ed27-469c-b754-9953f19aa6a1",
   "metadata": {},
   "outputs": [],
   "source": [
    "#4 find percentile\n",
    "# how many % of the students are less than or equal to him\n",
    "def find_number(data, percentile):\n",
    "    i = 0\n",
    "    while i < len(data):\n",
    "        data[i] = float(data[i])\n",
    "        i += 1\n",
    "    data.sort()\n",
    "    n = len(data)\n",
    "    i = (percentile / 100) * (n - 1)\n",
    "\n",
    "    k = int(i)\n",
    "    f = i - k\n",
    "\n",
    "    if f == 0:\n",
    "        result = data[k]\n",
    "    else:\n",
    "        result = (1 - f) * data[k] + f * data[k + 1]\n",
    "\n",
    "    print(f\"The value at the {percentile}th percentile is: {result}\")\n",
    "\n",
    "if __name__ == \"__main__\":\n",
    "    fin = open('percentile.txt', 'r')\n",
    "    percentile = float(input(\"Enter the percentile: \")) # need to find the number corresponding to percentile\n",
    "    datas = fin.readlines()\n",
    "    data = []\n",
    "    i = 0\n",
    "    while i < len(datas):\n",
    "        parts = datas[i].split(',')\n",
    "        j = 0\n",
    "        while j < len(parts):\n",
    "            num = parts[j].strip()\n",
    "            if num != '':\n",
    "                data.append(num)\n",
    "            j += 1\n",
    "        i += 1\n",
    "    find_numbers(data, percentile)"
   ]
  },
  {
   "cell_type": "code",
   "execution_count": 12,
   "id": "c34b866a-b157-4f96-b3b2-8ec346cd88b3",
   "metadata": {},
   "outputs": [
    {
     "name": "stdin",
     "output_type": "stream",
     "text": [
      "Enter number of classes:  4\n"
     ]
    },
    {
     "name": "stdout",
     "output_type": "stream",
     "text": [
      "class Range\tFrequency\n",
      "------------------------------\n",
      "1.0 - 3.25  | \t 3\n",
      "3.25 - 5.5  | \t 3\n",
      "5.5 - 7.75  | \t 5\n",
      "7.75 - 11.0  | \t 9\n"
     ]
    }
   ],
   "source": [
    "#5\n",
    "def create_classes(numbers, n):# groups the frequency table\n",
    "    low = min(numbers) \n",
    "    high = max(numbers)\n",
    "    # Width of each class\n",
    "    width = (high - low)/n\n",
    "    classes = []\n",
    "    a = low\n",
    "    b = low + width\n",
    "    classes = []\n",
    "    while a < (high-width):\n",
    "        classes.append((a, b))\n",
    "        a = b \n",
    "        b = a + width \n",
    "    # The last class may be of a size that is less than width \n",
    "    classes.append((a, high+1))\n",
    "    return classes # will return a tuples with each representing a class\n",
    "\n",
    "if __name__ == \"__main__\":\n",
    "    numbers = [] # initiating numbers as an empty list\n",
    "    n_classes = int(input(\"Enter number of classes: \")) # get the number of classes from the user\n",
    "    file = open('sample_data.txt', 'r') # opening the file to read\n",
    "    for line in file: # read each line\n",
    "        datas = line.split(',') # split for every commas and remove spaces\n",
    "        for data in datas:\n",
    "            numbers.append(float(data)) # append the data to the numbers list if it is not empty\n",
    "    # print(numbers)\n",
    "    if numbers: # if the numbers list is not empty\n",
    "        classes = create_classes(numbers, n_classes) # calling the function to create classes\n",
    "        frequencies = []\n",
    "        for frequency in classes:\n",
    "            frequencies.append(0) # will append 0 for n times to the frequencies as initiating\n",
    "\n",
    "        for num in numbers: # loop through numbers list\n",
    "            i = 0\n",
    "            while i < len(classes): # loop upto number of elements in numbers\n",
    "                low, high = classes[i]\n",
    "                if low <= num < high:# if the num is between the range\n",
    "                    frequencies[i] += 1 # increment 1 to the respective index\n",
    "                    break\n",
    "                i += 1\n",
    "\n",
    "    print(\"class Range\\tFrequency\") # displaying the output legibly\n",
    "    print(\"-\" * 30)\n",
    "    i = 0\n",
    "    while i < len(classes):\n",
    "        low = classes[i][0]\n",
    "        high = classes[i][1]\n",
    "        freq = frequencies[i]\n",
    "        print(f\"{round(low, 2)} - {round(high, 2)}  | \\t {freq}\")\n",
    "        i += 1"
   ]
  }
 ],
 "metadata": {
  "kernelspec": {
   "display_name": "Python 3 (ipykernel)",
   "language": "python",
   "name": "python3"
  },
  "language_info": {
   "codemirror_mode": {
    "name": "ipython",
    "version": 3
   },
   "file_extension": ".py",
   "mimetype": "text/x-python",
   "name": "python",
   "nbconvert_exporter": "python",
   "pygments_lexer": "ipython3",
   "version": "3.13.0"
  }
 },
 "nbformat": 4,
 "nbformat_minor": 5
}
