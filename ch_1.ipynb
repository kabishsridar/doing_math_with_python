{
 "cells": [
  {
   "cell_type": "code",
   "execution_count": 44,
   "id": "8c366217-e2aa-49fc-97da-3cda120b0dc2",
   "metadata": {},
   "outputs": [
    {
     "name": "stdout",
     "output_type": "stream",
     "text": [
      "3/4\n"
     ]
    }
   ],
   "source": [
    "from fractions import Fraction # importing the module\n",
    "f = Fraction(3, 4) # it makes those integers in fraction format\n",
    "print(f)"
   ]
  },
  {
   "cell_type": "code",
   "execution_count": 9,
   "id": "c15e81b5-a2ca-47f8-9e30-c90459c39da8",
   "metadata": {},
   "outputs": [
    {
     "name": "stdout",
     "output_type": "stream",
     "text": [
      "2.25\n"
     ]
    }
   ],
   "source": [
    "print(f + 1.5)"
   ]
  },
  {
   "cell_type": "code",
   "execution_count": 10,
   "id": "9cacf6be-15b3-4819-95d4-f10a2b6836de",
   "metadata": {},
   "outputs": [
    {
     "name": "stdout",
     "output_type": "stream",
     "text": [
      "<class 'complex'>\n"
     ]
    }
   ],
   "source": [
    "a = 2 +3j\n",
    "print(type(a))"
   ]
  },
  {
   "cell_type": "code",
   "execution_count": 11,
   "id": "3dd95cba-d680-4833-aa66-7c1fecd2cc1e",
   "metadata": {},
   "outputs": [
    {
     "data": {
      "text/plain": [
       "2.0"
      ]
     },
     "execution_count": 11,
     "metadata": {},
     "output_type": "execute_result"
    }
   ],
   "source": [
    "a.real"
   ]
  },
  {
   "cell_type": "code",
   "execution_count": 12,
   "id": "acf25fe9-3afd-4aef-a766-420049f4917a",
   "metadata": {},
   "outputs": [
    {
     "data": {
      "text/plain": [
       "3.0"
      ]
     },
     "execution_count": 12,
     "metadata": {},
     "output_type": "execute_result"
    }
   ],
   "source": [
    "a.imag"
   ]
  },
  {
   "cell_type": "code",
   "execution_count": 13,
   "id": "bb110054-e7b4-4cdb-b89a-1db4c3c84c1f",
   "metadata": {},
   "outputs": [
    {
     "data": {
      "text/plain": [
       "(2-3j)"
      ]
     },
     "execution_count": 13,
     "metadata": {},
     "output_type": "execute_result"
    }
   ],
   "source": [
    "a.conjugate()"
   ]
  },
  {
   "cell_type": "code",
   "execution_count": 14,
   "id": "12a1f32a-a05e-428b-85c4-ebedc048f6dc",
   "metadata": {},
   "outputs": [
    {
     "name": "stdout",
     "output_type": "stream",
     "text": [
      "3.605551275463989\n"
     ]
    }
   ],
   "source": [
    "print(abs(a))"
   ]
  },
  {
   "cell_type": "code",
   "execution_count": 1,
   "id": "e1d717a2-1afb-4c2d-94e7-4f1808f43f58",
   "metadata": {},
   "outputs": [
    {
     "name": "stdin",
     "output_type": "stream",
     "text": [
      "Enter a number:  3/4\n"
     ]
    },
    {
     "name": "stdout",
     "output_type": "stream",
     "text": [
      "You entered an invalid integer\n"
     ]
    }
   ],
   "source": [
    "try:\n",
    "    a = float(input(\"Enter a number: \"))\n",
    "except ValueError:\n",
    "    print(\"You entered an invalid integer\")"
   ]
  },
  {
   "cell_type": "code",
   "execution_count": 5,
   "id": "40964d45-b1dc-4a56-8faf-e2eb2104b591",
   "metadata": {},
   "outputs": [
    {
     "name": "stdin",
     "output_type": "stream",
     "text": [
      "Enter a fraction:  3/4\n"
     ]
    },
    {
     "name": "stdout",
     "output_type": "stream",
     "text": [
      "3/4\n",
      "<class 'fractions.Fraction'>\n"
     ]
    }
   ],
   "source": [
    "a = Fraction(input(\"Enter a fraction: \"))\n",
    "print(a)\n",
    "print(type(a))"
   ]
  },
  {
   "cell_type": "code",
   "execution_count": 9,
   "id": "96253b7e-7d82-4c4d-aab5-89fa2025a610",
   "metadata": {},
   "outputs": [
    {
     "name": "stdin",
     "output_type": "stream",
     "text": [
      "Enter a complex number:  2+3j\n"
     ]
    },
    {
     "name": "stdout",
     "output_type": "stream",
     "text": [
      "(2+3j)\n",
      "<class 'complex'>\n"
     ]
    }
   ],
   "source": [
    "z = complex(input('Enter a complex number: '))\n",
    "print(z)\n",
    "print(type(z))"
   ]
  },
  {
   "cell_type": "code",
   "execution_count": 10,
   "id": "d62e18b3-e67a-4238-8a4a-3ddb521d2d39",
   "metadata": {},
   "outputs": [],
   "source": [
    "def is_factor(a, b):\n",
    "    if b % a == 0:\n",
    "        return True\n",
    "    else:\n",
    "        return False"
   ]
  },
  {
   "cell_type": "code",
   "execution_count": 12,
   "id": "2054a67b-51da-4ed9-a715-677ce568c214",
   "metadata": {},
   "outputs": [
    {
     "data": {
      "text/plain": [
       "True"
      ]
     },
     "execution_count": 12,
     "metadata": {},
     "output_type": "execute_result"
    }
   ],
   "source": [
    "is_factor(4, 1024)"
   ]
  },
  {
   "cell_type": "code",
   "execution_count": 14,
   "id": "c2704f00-1f22-4e08-83eb-feac03601a89",
   "metadata": {},
   "outputs": [
    {
     "name": "stdin",
     "output_type": "stream",
     "text": [
      "Your Number please:  25\n"
     ]
    },
    {
     "name": "stdout",
     "output_type": "stream",
     "text": [
      "1\n",
      "5\n",
      "25\n"
     ]
    }
   ],
   "source": [
    "def factors(b):\n",
    "    for i in range(1, b + 1):\n",
    "        if b% i == 0:\n",
    "            print(i)\n",
    "if __name__ == \"__main__\":\n",
    "    b = input('Your Number please: ')\n",
    "    b = float(b)\n",
    "    if b > 0 and b.is_integer():\n",
    "        factors(int(b))\n",
    "    else:\n",
    "        print('Please enter a positive integer')"
   ]
  },
  {
   "cell_type": "code",
   "execution_count": 15,
   "id": "8168af21-1af4-41ec-a641-18f5c502dd2a",
   "metadata": {},
   "outputs": [
    {
     "name": "stdin",
     "output_type": "stream",
     "text": [
      "Enter a number:  5\n"
     ]
    },
    {
     "name": "stdout",
     "output_type": "stream",
     "text": [
      "5.0 X 1 = 5.0\n",
      "5.0 X 2 = 10.0\n",
      "5.0 X 3 = 15.0\n",
      "5.0 X 4 = 20.0\n",
      "5.0 X 5 = 25.0\n",
      "5.0 X 6 = 30.0\n",
      "5.0 X 7 = 35.0\n",
      "5.0 X 8 = 40.0\n",
      "5.0 X 9 = 45.0\n",
      "5.0 X 10 = 50.0\n"
     ]
    }
   ],
   "source": [
    "def multiplication_table(a):\n",
    "    for i in range(1, 11):\n",
    "        print('{0} X {1} = {2}'.format(a, i, a *i))\n",
    "if __name__ == \"__main__\":\n",
    "    a = input('Enter a number: ')\n",
    "    multiplication_table(float(a))"
   ]
  },
  {
   "cell_type": "code",
   "execution_count": 41,
   "id": "92289b27-fb86-490d-8108-a9b955c62a5b",
   "metadata": {},
   "outputs": [
    {
     "name": "stdout",
     "output_type": "stream",
     "text": [
      "1. Km to Miles\n",
      "2. Miles to Km\n"
     ]
    },
    {
     "name": "stdin",
     "output_type": "stream",
     "text": [
      "Which Conversion Would you like to do?:  2\n",
      "Enter distance in miles:  100\n"
     ]
    },
    {
     "name": "stdout",
     "output_type": "stream",
     "text": [
      "Distance in Km: 160.9\n"
     ]
    }
   ],
   "source": [
    "def print_menu():\n",
    "    print('1. Km to Miles')\n",
    "    print('2. Miles to Km')\n",
    "def km_miles(km):\n",
    "    miles = km / 1.609\n",
    "    print('Distance in miles: {0}'.format(miles))\n",
    "def miles_km(miles):\n",
    "    km = miles * 1.609\n",
    "    print('Distance in Km: {0}'.format(km))\n",
    "if __name__ == \"__main__\":\n",
    "    print_menu()\n",
    "    choice = input('Which Conversion Would you like to do?: ')\n",
    "    \n",
    "    if choice == '1':\n",
    "        km = float(input('Enter distance in KM : '))\n",
    "        km_miles(km)\n",
    "    elif choice == '2':\n",
    "        miles = float(input('Enter distance in miles: '))\n",
    "        miles_km(miles)"
   ]
  },
  {
   "cell_type": "code",
   "execution_count": 34,
   "id": "ab22c6e2-16aa-4cc8-9e50-01772d3f8adc",
   "metadata": {},
   "outputs": [
    {
     "name": "stdin",
     "output_type": "stream",
     "text": [
      "Enter a Number:  2\n"
     ]
    },
    {
     "name": "stdout",
     "output_type": "stream",
     "text": [
      "even\n",
      "2\n",
      "4\n",
      "6\n",
      "8\n",
      "10\n",
      "12\n",
      "14\n",
      "16\n",
      "18\n",
      "20\n"
     ]
    }
   ],
   "source": [
    "def odd_or_even(a):\n",
    "    if a % 2 == 0:\n",
    "        print(\"even\")\n",
    "        for i in range(10):\n",
    "            print(a + 2 * i)\n",
    "    else:\n",
    "        print(\"odd\")\n",
    "        for i in range(10):\n",
    "            print(a + 2 * i)\n",
    "num = int(input('Enter a Number: '))\n",
    "if num.is_integer():\n",
    "    odd_or_even(num)\n",
    "else:\n",
    "    print(\"Enter a valid integer\")"
   ]
  },
  {
   "cell_type": "code",
   "execution_count": 39,
   "id": "06f6479d-ccf2-414c-b1ba-b31c2ed8e500",
   "metadata": {},
   "outputs": [
    {
     "name": "stdin",
     "output_type": "stream",
     "text": [
      "Enter which table to be displayed:  11\n",
      "Enter how many multiples to be displayed:  11\n"
     ]
    },
    {
     "name": "stdout",
     "output_type": "stream",
     "text": [
      "11 X 1 = 11\n",
      "11 X 2 = 22\n",
      "11 X 3 = 33\n",
      "11 X 4 = 44\n",
      "11 X 5 = 55\n",
      "11 X 6 = 66\n",
      "11 X 7 = 77\n",
      "11 X 8 = 88\n",
      "11 X 9 = 99\n",
      "11 X 10 = 110\n",
      "11 X 11 = 121\n"
     ]
    }
   ],
   "source": [
    "def multiplication_table(a,b):\n",
    "    for i in range(1, b+1):\n",
    "        print('{0} X {1} = {2}'.format(a, i, a *i))\n",
    "if __name__ == \"__main__\":\n",
    "    a = input('Enter which table to be displayed: ')\n",
    "    b = input('Enter how many multiples to be displayed: ')\n",
    "    multiplication_table(int(a), int(b))"
   ]
  },
  {
   "cell_type": "code",
   "execution_count": 43,
   "id": "8801cd7e-1cd0-408b-8859-f4119b4d9831",
   "metadata": {},
   "outputs": [
    {
     "name": "stdout",
     "output_type": "stream",
     "text": [
      "1. Km to Miles\n",
      "2. Miles to Km\n",
      "3. KG to Pound\n",
      "4. Pound to KG\n",
      "5. Celcius to Farenheit\n",
      "6. Farenheit to Celcius\n"
     ]
    },
    {
     "name": "stdin",
     "output_type": "stream",
     "text": [
      "Which conversion would you like to do? (1-6):  5\n",
      "Enter temperature in Celsius:  1\n"
     ]
    },
    {
     "name": "stdout",
     "output_type": "stream",
     "text": [
      "Temperature in Fahrenheit: 33.80\n"
     ]
    }
   ],
   "source": [
    "def print_menu():\n",
    "    print('1. Km to Miles')\n",
    "    print('2. Miles to Km')\n",
    "    print('3. KG to Pound')\n",
    "    print('4. Pound to KG')\n",
    "    print('5. Celcius to Farenheit')\n",
    "    print('6. Farenheit to Celcius')\n",
    "def km_miles(km):\n",
    "    miles = km / 1.609\n",
    "    print('Distance in miles: {0}'.format(miles))\n",
    "def miles_km(miles):\n",
    "    km = miles * 1.609\n",
    "    print('Distance in Km: {0}'.format(km))\n",
    "def kg_pound(kg):\n",
    "    pound = kg * 2.20462262\n",
    "    print('Weight in Pound: {0}'.format(pound))\n",
    "def pound_kg(pound):\n",
    "    kg = pound / 2.20462262\n",
    "    print('Weight in KG: {0}'.format(kg))\n",
    "def c_to_f(c):\n",
    "    f = (c * 9/5) + 32\n",
    "    print('Temperature in Fahrenheit: {:.2f}'.format(f))\n",
    "\n",
    "def f_to_c(f):\n",
    "    c = (f - 32) * 5/9\n",
    "    print('Temperature in Celsius: {:.2f}'.format(c))\n",
    "    \n",
    "if __name__ == \"__main__\":\n",
    "    print_menu()\n",
    "    choice = input('Which conversion would you like to do? (1-6): ')\n",
    "    \n",
    "    if choice == '1':\n",
    "        km = float(input('Enter distance in KM: '))\n",
    "        km_miles(km)\n",
    "    elif choice == '2':\n",
    "        miles = float(input('Enter distance in Miles: '))\n",
    "        miles_km(miles)\n",
    "    elif choice == '3':\n",
    "        kg = float(input('Enter weight in KG: '))\n",
    "        kg_pound(kg)\n",
    "    elif choice == '4':\n",
    "        pound = float(input('Enter weight in Pounds: '))\n",
    "        pound_kg(pound)\n",
    "    elif choice == '5':\n",
    "        c = float(input('Enter temperature in Celsius: '))\n",
    "        c_to_f(c)\n",
    "    elif choice == '6':\n",
    "        f = float(input('Enter temperature in Fahrenheit: '))\n",
    "        f_to_c(f)\n",
    "    else:\n",
    "        print(\"Invalid choice. Please enter a number between 1 and 6.\")"
   ]
  },
  {
   "cell_type": "code",
   "execution_count": 52,
   "id": "d9d1c57d-3e8c-4588-be94-2fe5473ee1f9",
   "metadata": {},
   "outputs": [
    {
     "name": "stdin",
     "output_type": "stream",
     "text": [
      "Enter first fraction:  3/6\n",
      "Enter second fraction:  4/8\n",
      "Operation to perform - Add, Subtract, Multiply, Divide Multiply\n"
     ]
    },
    {
     "name": "stdout",
     "output_type": "stream",
     "text": [
      "Result of Multiplication: 1/4\n"
     ]
    }
   ],
   "source": [
    "def add(a,b):\n",
    "    print('Result of Addition: {0}'.format(a + b))\n",
    "def sub(a, b):\n",
    "    print(\"Result of Subtraction: {0}\".format(a - b))\n",
    "def mul(a, b):\n",
    "    print(\"Result of Multiplication: {0}\".format(a * b))\n",
    "def div(a, b):\n",
    "    print(\"Result of Division: {0}\".format(a / b))\n",
    "if __name__ == \"__main__\":\n",
    "    a = Fraction(input('Enter first fraction: '))\n",
    "    b = Fraction(input('Enter second fraction: '))\n",
    "    op = input('Operation to perform - Add, Subtract, Multiply, Divide')\n",
    "    if op == 'Add':\n",
    "        add(a,b)\n",
    "    elif op == \"subtract\":\n",
    "        sub(a,b)\n",
    "    elif op == \"Multiply\":\n",
    "        mul(a, b)\n",
    "    elif op == \"Divide\":\n",
    "        div(a, b)\n",
    "    else:\n",
    "        print(\"enter valid operation\")"
   ]
  },
  {
   "cell_type": "code",
   "execution_count": 55,
   "id": "63d1f3ba-7522-4e5b-b92c-be8323c67cda",
   "metadata": {},
   "outputs": [
    {
     "name": "stdin",
     "output_type": "stream",
     "text": [
      "Enter a number:  2\n"
     ]
    },
    {
     "name": "stdout",
     "output_type": "stream",
     "text": [
      "2.0 x 1 = 2.0\n",
      "2.0 x 2 = 4.0\n",
      "2.0 x 3 = 6.0\n",
      "2.0 x 4 = 8.0\n",
      "2.0 x 5 = 10.0\n",
      "2.0 x 6 = 12.0\n",
      "2.0 x 7 = 14.0\n",
      "2.0 x 8 = 16.0\n",
      "2.0 x 9 = 18.0\n",
      "2.0 x 10 = 20.0\n"
     ]
    },
    {
     "name": "stdin",
     "output_type": "stream",
     "text": [
      "Do you want to exit?(y or n) n\n",
      "Enter a number:  6\n"
     ]
    },
    {
     "name": "stdout",
     "output_type": "stream",
     "text": [
      "6.0 x 1 = 6.0\n",
      "6.0 x 2 = 12.0\n",
      "6.0 x 3 = 18.0\n",
      "6.0 x 4 = 24.0\n",
      "6.0 x 5 = 30.0\n",
      "6.0 x 6 = 36.0\n",
      "6.0 x 7 = 42.0\n",
      "6.0 x 8 = 48.0\n",
      "6.0 x 9 = 54.0\n",
      "6.0 x 10 = 60.0\n"
     ]
    },
    {
     "name": "stdin",
     "output_type": "stream",
     "text": [
      "Do you want to exit?(y or n) y\n"
     ]
    }
   ],
   "source": [
    "def multi_table(a):\n",
    "    for i in range(1, 11):\n",
    "        print('{0} x {1} = {2}'.format(a, i, a*i))\n",
    "if __name__ == '__main__':\n",
    "    while True:\n",
    "        a = input('Enter a number: ')\n",
    "        multi_table(float(a))\n",
    "        \n",
    "        answer = input('Do you want to exit?(y or n)')\n",
    "        if answer == 'y':\n",
    "            break"
   ]
  }
 ],
 "metadata": {
  "kernelspec": {
   "display_name": "Python 3 (ipykernel)",
   "language": "python",
   "name": "python3"
  },
  "language_info": {
   "codemirror_mode": {
    "name": "ipython",
    "version": 3
   },
   "file_extension": ".py",
   "mimetype": "text/x-python",
   "name": "python",
   "nbconvert_exporter": "python",
   "pygments_lexer": "ipython3",
   "version": "3.13.0"
  }
 },
 "nbformat": 4,
 "nbformat_minor": 5
}
