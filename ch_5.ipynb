{
 "cells": [
  {
   "cell_type": "code",
   "execution_count": 1,
   "id": "d7023b7c-1d57-4bcd-b7a1-4a56ebc79670",
   "metadata": {},
   "outputs": [
    {
     "name": "stdout",
     "output_type": "stream",
     "text": [
      "{2, 4, 6}\n"
     ]
    }
   ],
   "source": [
    "from sympy import FiniteSet\n",
    "from fractions import Fraction\n",
    "s = FiniteSet(2, 4, 6) # FiniteSet is a class here and s is the object\n",
    "print(s)"
   ]
  },
  {
   "cell_type": "code",
   "execution_count": 2,
   "id": "c8be40c2-60ac-4484-a76b-fd248dd70431",
   "metadata": {},
   "outputs": [
    {
     "name": "stdout",
     "output_type": "stream",
     "text": [
      "{1/5, 1, 1.5}\n"
     ]
    }
   ],
   "source": [
    "s = FiniteSet(1, 1.5, Fraction(1, 5))\n",
    "print(s)"
   ]
  },
  {
   "cell_type": "code",
   "execution_count": 3,
   "id": "fa463161-5939-43b9-a862-ea3a76ea7b23",
   "metadata": {},
   "outputs": [
    {
     "name": "stdout",
     "output_type": "stream",
     "text": [
      "{1, 2, 3}\n"
     ]
    }
   ],
   "source": [
    "members = [1, 2, 3]\n",
    "s = FiniteSet(*members) # this will create a set by passing a list or tuple as an arguement to FiniteSet\n",
    "print(s)"
   ]
  },
  {
   "cell_type": "code",
   "execution_count": 4,
   "id": "5a0466c3-4399-4964-b7c3-8839b9dcd2c7",
   "metadata": {},
   "outputs": [
    {
     "name": "stdout",
     "output_type": "stream",
     "text": [
      "1\n",
      "2\n",
      "3\n"
     ]
    }
   ],
   "source": [
    "check = FiniteSet(1, 2, 3)\n",
    "for i in check:\n",
    "    print(i)"
   ]
  },
  {
   "cell_type": "code",
   "execution_count": 5,
   "id": "e2ef4130-6547-4ce0-81b2-bd08da088663",
   "metadata": {},
   "outputs": [
    {
     "name": "stdout",
     "output_type": "stream",
     "text": [
      "True\n"
     ]
    }
   ],
   "source": [
    "s = FiniteSet(3, 4, 5)\n",
    "t = FiniteSet(5, 4, 3)\n",
    "print(s == t)"
   ]
  },
  {
   "cell_type": "code",
   "execution_count": 6,
   "id": "cda0e3e7-aa94-440e-a8db-dfdd00133b16",
   "metadata": {},
   "outputs": [
    {
     "name": "stdout",
     "output_type": "stream",
     "text": [
      "True\n",
      "False\n"
     ]
    }
   ],
   "source": [
    "# subsets, supersets, powersets\n",
    "s = FiniteSet(1)\n",
    "t = FiniteSet(1, 2)\n",
    "print(s.is_subset(t))\n",
    "print(t.is_subset(s))"
   ]
  },
  {
   "cell_type": "code",
   "execution_count": 7,
   "id": "d94c322c-be70-42c4-bbbd-8c0bb7ffc85d",
   "metadata": {},
   "outputs": [
    {
     "name": "stdout",
     "output_type": "stream",
     "text": [
      "False\n",
      "True\n"
     ]
    }
   ],
   "source": [
    "#  Note that an empty set is a subset of every set\n",
    "print(s.is_superset(t))\n",
    "print(t.is_superset(s))"
   ]
  },
  {
   "cell_type": "code",
   "execution_count": 8,
   "id": "ac60dc94-1328-4b21-9ce8-9e5b8677878c",
   "metadata": {},
   "outputs": [],
   "source": [
    "#  is a proper subset of t only if all the members of s are also in t and t  has at least one member that is not in s\n",
    "# This would also mean that t is a proper superset of s."
   ]
  },
  {
   "cell_type": "code",
   "execution_count": 9,
   "id": "1ab1f17e-8d37-4b9f-a4af-c3ceedc1cc53",
   "metadata": {},
   "outputs": [
    {
     "name": "stdout",
     "output_type": "stream",
     "text": [
      "FiniteSet(EmptySet, {1}, {2}, {3}, {1, 2}, {1, 3}, {2, 3}, {1, 2, 3})\n",
      "8\n"
     ]
    }
   ],
   "source": [
    "# the set of all possible subsets are powersets and there will be 2^|s| subsets will be presented where |s| is the cardinality of sets\n",
    "s = FiniteSet(1, 2, 3)\n",
    "ps = s.powerset()\n",
    "print(ps)\n",
    "print(len(ps))"
   ]
  },
  {
   "cell_type": "code",
   "execution_count": 10,
   "id": "32bffec1-36ca-455d-b46a-973465d0c6ae",
   "metadata": {},
   "outputs": [
    {
     "name": "stdout",
     "output_type": "stream",
     "text": [
      "{1, 2, 3, 4, 6}\n"
     ]
    }
   ],
   "source": [
    "s = FiniteSet(1, 2, 3)\n",
    "t = FiniteSet(2, 4, 6)\n",
    "print(s.union(t))"
   ]
  },
  {
   "cell_type": "code",
   "execution_count": 11,
   "id": "6304b192-399b-4dea-9f60-237a24c6b43f",
   "metadata": {},
   "outputs": [
    {
     "name": "stdout",
     "output_type": "stream",
     "text": [
      "{2}\n"
     ]
    }
   ],
   "source": [
    "print(s.intersect(t))"
   ]
  },
  {
   "cell_type": "code",
   "execution_count": 12,
   "id": "2e78442f-dcb1-4a3f-b646-cd1543e3072f",
   "metadata": {},
   "outputs": [
    {
     "name": "stdout",
     "output_type": "stream",
     "text": [
      "ProductSet({1, 2, 3}, {2, 4, 6})\n"
     ]
    }
   ],
   "source": [
    "p = s*t\n",
    "print(p)"
   ]
  },
  {
   "cell_type": "code",
   "execution_count": 13,
   "id": "fc0fcf5d-1415-4a30-a45d-281ef4006b85",
   "metadata": {},
   "outputs": [
    {
     "name": "stdout",
     "output_type": "stream",
     "text": [
      "(1, 2)\n",
      "(2, 2)\n",
      "(1, 4)\n",
      "(3, 2)\n",
      "(2, 4)\n",
      "(1, 6)\n",
      "(3, 4)\n",
      "(2, 6)\n",
      "(3, 6)\n"
     ]
    }
   ],
   "source": [
    "for elem in p:\n",
    "    print(elem)"
   ]
  },
  {
   "cell_type": "code",
   "execution_count": 14,
   "id": "b7c8ea48-67ea-4786-b547-d4c49aed9543",
   "metadata": {},
   "outputs": [
    {
     "name": "stdout",
     "output_type": "stream",
     "text": [
      "ProductSet({1, 2}, {1, 2}, {1, 2})\n"
     ]
    }
   ],
   "source": [
    "s = FiniteSet(1,2)\n",
    "p = s**3\n",
    "print(p)"
   ]
  },
  {
   "cell_type": "code",
   "execution_count": 15,
   "id": "89e64afc-8c33-4a11-8b6a-26f1f546d220",
   "metadata": {},
   "outputs": [
    {
     "name": "stdout",
     "output_type": "stream",
     "text": [
      "(1, 1, 1)\n",
      "(2, 1, 1)\n",
      "(1, 2, 1)\n",
      "(2, 2, 1)\n",
      "(1, 1, 2)\n",
      "(2, 1, 2)\n",
      "(1, 2, 2)\n",
      "(2, 2, 2)\n"
     ]
    }
   ],
   "source": [
    "for elem in p:\n",
    "    print(elem)"
   ]
  },
  {
   "cell_type": "code",
   "execution_count": 17,
   "id": "637d5f9e-b10d-4a1c-bb7f-9c4095f9832a",
   "metadata": {},
   "outputs": [
    {
     "name": "stdout",
     "output_type": "stream",
     "text": [
      "Length: 22.5 cm Time Period: 0.952s\n",
      "Length: 15.0 cm Time Period: 0.777s\n",
      "Length: 18.0 cm Time Period: 0.852s\n",
      "Length: 21.0 cm Time Period: 0.920s\n",
      "Length: 25.0 cm Time Period: 1.004s\n"
     ]
    }
   ],
   "source": [
    "from sympy import FiniteSet, pi\n",
    "def time_period(length):\n",
    "    g = 9.8\n",
    "    T = 2*pi*(length/g)**0.5\n",
    "    return T\n",
    "if __name__ == \"__main__\":\n",
    "    L = FiniteSet(15, 18, 21, 22.5, 25)\n",
    "    for i in L:\n",
    "        t = time_period(i/100)\n",
    "        print(f'Length: {float(i)} cm Time Period: {float(t) :.3f}s') "
   ]
  },
  {
   "cell_type": "code",
   "execution_count": 18,
   "id": "35a653ea-348f-4d24-983a-d12735ee5cfb",
   "metadata": {},
   "outputs": [
    {
     "name": "stdout",
     "output_type": "stream",
     "text": [
      "  Length(cm)   Gravity(m/s^2) Time  Period(s)\n",
      "     22.5           9.78           0.953     \n",
      "     15.0           9.78           0.778     \n",
      "     22.5            9.8           0.952     \n",
      "     18.0           9.78           0.852     \n",
      "     15.0            9.8           0.777     \n",
      "     22.5           9.83           0.951     \n",
      "     21.0           9.78           0.921     \n",
      "     18.0            9.8           0.852     \n",
      "     15.0           9.83           0.776     \n",
      "     25.0           9.78           1.005     \n",
      "     21.0            9.8           0.920     \n",
      "     18.0           9.83           0.850     \n",
      "     25.0            9.8           1.004     \n",
      "     21.0           9.83           0.918     \n",
      "     25.0           9.83           1.002     \n"
     ]
    }
   ],
   "source": [
    "def time_period(length, g):\n",
    "    T = 2*pi*(length/g)**0.5\n",
    "    return T\n",
    "if __name__ == \"__main__\":\n",
    "    L = FiniteSet(15, 18, 21, 22.5, 25)\n",
    "    g_values = FiniteSet(9.8, 9.78, 9.83)\n",
    "    print('{0:^15}{1:^15}{2:^15}'.format('Length(cm)', 'Gravity(m/s^2)', 'Time  Period(s)'))\n",
    "    for elem in L*g_values:\n",
    "        l = elem[0]\n",
    "        g = elem[1]\n",
    "        t = time_period(l/100, g)\n",
    "\n",
    "        print('{0:^15}{1:^15}{2:^15.3f}'.format(float(l), float(g), float(t)))"
   ]
  }
 ],
 "metadata": {
  "kernelspec": {
   "display_name": "Python 3 (ipykernel)",
   "language": "python",
   "name": "python3"
  },
  "language_info": {
   "codemirror_mode": {
    "name": "ipython",
    "version": 3
   },
   "file_extension": ".py",
   "mimetype": "text/x-python",
   "name": "python",
   "nbconvert_exporter": "python",
   "pygments_lexer": "ipython3",
   "version": "3.13.0"
  }
 },
 "nbformat": 4,
 "nbformat_minor": 5
}
