{
 "cells": [
  {
   "cell_type": "code",
   "execution_count": 2,
   "id": "d7023b7c-1d57-4bcd-b7a1-4a56ebc79670",
   "metadata": {},
   "outputs": [
    {
     "name": "stdout",
     "output_type": "stream",
     "text": [
      "{2, 4, 6}\n"
     ]
    }
   ],
   "source": [
    "from sympy import FiniteSet\n",
    "from fractions import Fraction\n",
    "s = FiniteSet(2, 4, 6) # FiniteSet is a class here and s is the object\n",
    "print(s)"
   ]
  },
  {
   "cell_type": "code",
   "execution_count": 2,
   "id": "c8be40c2-60ac-4484-a76b-fd248dd70431",
   "metadata": {},
   "outputs": [
    {
     "name": "stdout",
     "output_type": "stream",
     "text": [
      "{1/5, 1, 1.5}\n"
     ]
    }
   ],
   "source": [
    "s = FiniteSet(1, 1.5, Fraction(1, 5))\n",
    "print(s)"
   ]
  },
  {
   "cell_type": "code",
   "execution_count": 3,
   "id": "fa463161-5939-43b9-a862-ea3a76ea7b23",
   "metadata": {},
   "outputs": [
    {
     "name": "stdout",
     "output_type": "stream",
     "text": [
      "{1, 2, 3}\n"
     ]
    }
   ],
   "source": [
    "members = [1, 2, 3]\n",
    "s = FiniteSet(*members) # this will create a set by passing a list or tuple as an arguement to FiniteSet\n",
    "print(s)"
   ]
  },
  {
   "cell_type": "code",
   "execution_count": 4,
   "id": "5a0466c3-4399-4964-b7c3-8839b9dcd2c7",
   "metadata": {},
   "outputs": [
    {
     "name": "stdout",
     "output_type": "stream",
     "text": [
      "1\n",
      "2\n",
      "3\n"
     ]
    }
   ],
   "source": [
    "check = FiniteSet(1, 2, 3)\n",
    "for i in check:\n",
    "    print(i)"
   ]
  },
  {
   "cell_type": "code",
   "execution_count": 5,
   "id": "e2ef4130-6547-4ce0-81b2-bd08da088663",
   "metadata": {},
   "outputs": [
    {
     "name": "stdout",
     "output_type": "stream",
     "text": [
      "True\n"
     ]
    }
   ],
   "source": [
    "s = FiniteSet(3, 4, 5)\n",
    "t = FiniteSet(5, 4, 3)\n",
    "print(s == t)"
   ]
  },
  {
   "cell_type": "code",
   "execution_count": 6,
   "id": "cda0e3e7-aa94-440e-a8db-dfdd00133b16",
   "metadata": {},
   "outputs": [
    {
     "name": "stdout",
     "output_type": "stream",
     "text": [
      "True\n",
      "False\n"
     ]
    }
   ],
   "source": [
    "# subsets, supersets, powersets\n",
    "s = FiniteSet(1)\n",
    "t = FiniteSet(1, 2)\n",
    "print(s.is_subset(t))\n",
    "print(t.is_subset(s))"
   ]
  },
  {
   "cell_type": "code",
   "execution_count": 7,
   "id": "d94c322c-be70-42c4-bbbd-8c0bb7ffc85d",
   "metadata": {},
   "outputs": [
    {
     "name": "stdout",
     "output_type": "stream",
     "text": [
      "False\n",
      "True\n"
     ]
    }
   ],
   "source": [
    "#  Note that an empty set is a subset of every set\n",
    "print(s.is_superset(t))\n",
    "print(t.is_superset(s))"
   ]
  },
  {
   "cell_type": "code",
   "execution_count": 8,
   "id": "ac60dc94-1328-4b21-9ce8-9e5b8677878c",
   "metadata": {},
   "outputs": [],
   "source": [
    "#  is a proper subset of t only if all the members of s are also in t and t  has at least one member that is not in s\n",
    "# This would also mean that t is a proper superset of s."
   ]
  },
  {
   "cell_type": "code",
   "execution_count": 9,
   "id": "1ab1f17e-8d37-4b9f-a4af-c3ceedc1cc53",
   "metadata": {},
   "outputs": [
    {
     "name": "stdout",
     "output_type": "stream",
     "text": [
      "FiniteSet(EmptySet, {1}, {2}, {3}, {1, 2}, {1, 3}, {2, 3}, {1, 2, 3})\n",
      "8\n"
     ]
    }
   ],
   "source": [
    "# the set of all possible subsets are powersets and there will be 2^|s| subsets will be presented where |s| is the cardinality of sets\n",
    "s = FiniteSet(1, 2, 3)\n",
    "ps = s.powerset()\n",
    "print(ps)\n",
    "print(len(ps))"
   ]
  },
  {
   "cell_type": "code",
   "execution_count": 10,
   "id": "32bffec1-36ca-455d-b46a-973465d0c6ae",
   "metadata": {},
   "outputs": [
    {
     "name": "stdout",
     "output_type": "stream",
     "text": [
      "{1, 2, 3, 4, 6}\n"
     ]
    }
   ],
   "source": [
    "s = FiniteSet(1, 2, 3)\n",
    "t = FiniteSet(2, 4, 6)\n",
    "print(s.union(t))"
   ]
  },
  {
   "cell_type": "code",
   "execution_count": 11,
   "id": "6304b192-399b-4dea-9f60-237a24c6b43f",
   "metadata": {},
   "outputs": [
    {
     "name": "stdout",
     "output_type": "stream",
     "text": [
      "{2}\n"
     ]
    }
   ],
   "source": [
    "print(s.intersect(t))"
   ]
  },
  {
   "cell_type": "code",
   "execution_count": 12,
   "id": "2e78442f-dcb1-4a3f-b646-cd1543e3072f",
   "metadata": {},
   "outputs": [
    {
     "name": "stdout",
     "output_type": "stream",
     "text": [
      "ProductSet({1, 2, 3}, {2, 4, 6})\n"
     ]
    }
   ],
   "source": [
    "p = s*t\n",
    "print(p)"
   ]
  },
  {
   "cell_type": "code",
   "execution_count": 13,
   "id": "fc0fcf5d-1415-4a30-a45d-281ef4006b85",
   "metadata": {},
   "outputs": [
    {
     "name": "stdout",
     "output_type": "stream",
     "text": [
      "(1, 2)\n",
      "(2, 2)\n",
      "(1, 4)\n",
      "(3, 2)\n",
      "(2, 4)\n",
      "(1, 6)\n",
      "(3, 4)\n",
      "(2, 6)\n",
      "(3, 6)\n"
     ]
    }
   ],
   "source": [
    "for elem in p:\n",
    "    print(elem)"
   ]
  },
  {
   "cell_type": "code",
   "execution_count": 14,
   "id": "b7c8ea48-67ea-4786-b547-d4c49aed9543",
   "metadata": {},
   "outputs": [
    {
     "name": "stdout",
     "output_type": "stream",
     "text": [
      "ProductSet({1, 2}, {1, 2}, {1, 2})\n"
     ]
    }
   ],
   "source": [
    "s = FiniteSet(1,2)\n",
    "p = s**3\n",
    "print(p)"
   ]
  },
  {
   "cell_type": "code",
   "execution_count": 15,
   "id": "89e64afc-8c33-4a11-8b6a-26f1f546d220",
   "metadata": {},
   "outputs": [
    {
     "name": "stdout",
     "output_type": "stream",
     "text": [
      "(1, 1, 1)\n",
      "(2, 1, 1)\n",
      "(1, 2, 1)\n",
      "(2, 2, 1)\n",
      "(1, 1, 2)\n",
      "(2, 1, 2)\n",
      "(1, 2, 2)\n",
      "(2, 2, 2)\n"
     ]
    }
   ],
   "source": [
    "for elem in p:\n",
    "    print(elem)"
   ]
  },
  {
   "cell_type": "code",
   "execution_count": 17,
   "id": "637d5f9e-b10d-4a1c-bb7f-9c4095f9832a",
   "metadata": {},
   "outputs": [
    {
     "name": "stdout",
     "output_type": "stream",
     "text": [
      "Length: 22.5 cm Time Period: 0.952s\n",
      "Length: 15.0 cm Time Period: 0.777s\n",
      "Length: 18.0 cm Time Period: 0.852s\n",
      "Length: 21.0 cm Time Period: 0.920s\n",
      "Length: 25.0 cm Time Period: 1.004s\n"
     ]
    }
   ],
   "source": [
    "from sympy import FiniteSet, pi\n",
    "def time_period(length):\n",
    "    g = 9.8\n",
    "    T = 2*pi*(length/g)**0.5\n",
    "    return T\n",
    "if __name__ == \"__main__\":\n",
    "    L = FiniteSet(15, 18, 21, 22.5, 25)\n",
    "    for i in L:\n",
    "        t = time_period(i/100)\n",
    "        print(f'Length: {float(i)} cm Time Period: {float(t) :.3f}s') "
   ]
  },
  {
   "cell_type": "code",
   "execution_count": 18,
   "id": "35a653ea-348f-4d24-983a-d12735ee5cfb",
   "metadata": {},
   "outputs": [
    {
     "name": "stdout",
     "output_type": "stream",
     "text": [
      "  Length(cm)   Gravity(m/s^2) Time  Period(s)\n",
      "     22.5           9.78           0.953     \n",
      "     15.0           9.78           0.778     \n",
      "     22.5            9.8           0.952     \n",
      "     18.0           9.78           0.852     \n",
      "     15.0            9.8           0.777     \n",
      "     22.5           9.83           0.951     \n",
      "     21.0           9.78           0.921     \n",
      "     18.0            9.8           0.852     \n",
      "     15.0           9.83           0.776     \n",
      "     25.0           9.78           1.005     \n",
      "     21.0            9.8           0.920     \n",
      "     18.0           9.83           0.850     \n",
      "     25.0            9.8           1.004     \n",
      "     21.0           9.83           0.918     \n",
      "     25.0           9.83           1.002     \n"
     ]
    }
   ],
   "source": [
    "def time_period(length, g):\n",
    "    T = 2*pi*(length/g)**0.5\n",
    "    return T\n",
    "if __name__ == \"__main__\":\n",
    "    L = FiniteSet(15, 18, 21, 22.5, 25)\n",
    "    g_values = FiniteSet(9.8, 9.78, 9.83)\n",
    "    print('{0:^15}{1:^15}{2:^15}'.format('Length(cm)', 'Gravity(m/s^2)', 'Time  Period(s)'))\n",
    "    for elem in L*g_values:\n",
    "        l = elem[0]\n",
    "        g = elem[1]\n",
    "        t = time_period(l/100, g)\n",
    "\n",
    "        print('{0:^15}{1:^15}{2:^15.3f}'.format(float(l), float(g), float(t)))"
   ]
  },
  {
   "cell_type": "code",
   "execution_count": 3,
   "id": "4a5577d8-a9c2-430f-933a-df308d58500f",
   "metadata": {},
   "outputs": [
    {
     "name": "stdout",
     "output_type": "stream",
     "text": [
      "Sample space : {1, 2, 3, 4, 5, 6, 7, 8, 9, 10, 11, 12, 13, 14, 15, 16, 17, 18, 19, 20}\n",
      "Event : {2}\n",
      "Probabilty of rolling a prime : 0.05\n"
     ]
    }
   ],
   "source": [
    "def probability(space, event):\n",
    "    return len(event)/len(space)\n",
    "def check_prime(number):\n",
    "    if number != 1:\n",
    "        for factor in range(2, number):\n",
    "            if number % factor == 0:\n",
    "                return False\n",
    "    else:\n",
    "        return False\n",
    "    return True\n",
    "\n",
    "if __name__ == \"__main__\":\n",
    "    space = FiniteSet(*range(1, 21))\n",
    "    primes = []\n",
    "    for num in s:\n",
    "        if check_prime(num):\n",
    "            primes.append(num)\n",
    "    event = FiniteSet(*primes)\n",
    "    p = probability(space, event)\n",
    "\n",
    "    print(f'Sample space : {space}')\n",
    "    print('Event : {0}'.format(event))\n",
    "    print('Probabilty of rolling a prime : {0:.5}'.format(p))"
   ]
  },
  {
   "cell_type": "code",
   "execution_count": 31,
   "id": "5615f3ad-0fb0-4a92-ab91-d3529b0dbdee",
   "metadata": {},
   "outputs": [
    {
     "name": "stdout",
     "output_type": "stream",
     "text": [
      "Rolled : 5\n",
      "Rolled : 6\n",
      "Rolled : 3\n",
      "Rolled : 5\n",
      "Rolled : 1\n",
      "Score of 20 reached in 5\n"
     ]
    }
   ],
   "source": [
    "import matplotlib.pyplot as plt\n",
    "import random\n",
    "\n",
    "target_score = 20\n",
    "\n",
    "def roll():\n",
    "    return random.randint(1, 6)\n",
    "if __name__ == \"__main__\":\n",
    "    score = 0\n",
    "    num_rolls = 0\n",
    "    while score < target_score:\n",
    "        die_roll = roll()\n",
    "        num_rolls += 1\n",
    "        print('Rolled : {0}'.format(die_roll))\n",
    "        score += die_roll\n",
    "    print('Score of {0} reached in {1}'.format(score, num_rolls))"
   ]
  },
  {
   "cell_type": "code",
   "execution_count": 35,
   "id": "76a14740-c5ed-4458-95bb-d1f13b762227",
   "metadata": {},
   "outputs": [
    {
     "name": "stdin",
     "output_type": "stream",
     "text": [
      "Enter the target score:  25\n",
      "Enter the maximum number of rolls allowed:  5\n"
     ]
    },
    {
     "name": "stdout",
     "output_type": "stream",
     "text": [
      "Probability: 0.03241\n"
     ]
    }
   ],
   "source": [
    "from sympy import FiniteSet\n",
    "import random\n",
    "\n",
    "def find_prob(target_score, max_rolls):\n",
    "    die_sides = FiniteSet(1, 2, 3, 4, 5, 6)\n",
    "    s = die_sides**max_rolls # sample spaces\n",
    "    if max_rolls > 1:\n",
    "        success_rolls = []\n",
    "        for elem in s:\n",
    "            if sum(elem) >= target_score:\n",
    "                success_rolls.append(elem)\n",
    "    else:\n",
    "        if target_score > 6:\n",
    "            success_rolls = []\n",
    "        else:\n",
    "            success_rolls = []\n",
    "            for roll in die_sides:\n",
    "                if roll >= target_score:\n",
    "              \n",
    "                    success_rolls.append(roll)\n",
    "    e = FiniteSet(*success_rolls)\n",
    "    return len(e)/ len(s)\n",
    "\n",
    "if __name__ == \"__main__\":\n",
    "    target_score = int(input('Enter the target score: '))\n",
    "    max_rolls = int(input('Enter the maximum number of rolls allowed: '))\n",
    "    p = find_prob(target_score, max_rolls)\n",
    "    print('Probability: {0:.5f}'.format(p))"
   ]
  },
  {
   "cell_type": "code",
   "execution_count": 36,
   "id": "6d66afb2-77f2-47d2-8960-c08424d702bd",
   "metadata": {},
   "outputs": [],
   "source": [
    "import random\n",
    "def toss():\n",
    "    if random.random() < 2/3:\n",
    "        return 0\n",
    "    else:\n",
    "        return 1"
   ]
  },
  {
   "cell_type": "code",
   "execution_count": 37,
   "id": "0103bd28-e291-443d-8693-dcab1a54ad7e",
   "metadata": {},
   "outputs": [],
   "source": [
    "import random\n",
    "def get_index(probality):\n",
    "    c_probability = 0\n",
    "    sum_probabilty = []\n",
    "    for p in probability:\n",
    "        c_probability += p\n",
    "    r = random.random()\n",
    "    for index, sp in enumerate(sum_probability):\n",
    "        if r <= sp:\n",
    "            return index\n",
    "    return len(probability) - 1\n",
    "def dispense():\n",
    "    dollar_bills = [5, 10, 20, 50]\n",
    "    probability = [1/6, 1/6, 1/3, 2/3]\n",
    "    bill_index = get_index(probability)\n",
    "    return dollar_bills[bill_index]"
   ]
  },
  {
   "cell_type": "code",
   "execution_count": 43,
   "id": "7dc26a92-a2bb-4f47-8c19-c3cc14d57d3e",
   "metadata": {},
   "outputs": [
    {
     "data": {
      "image/png": "[encoded data removed]",
      "text/plain": [
       "<Figure size 640x480 with 1 Axes>"
      ]
     },
     "metadata": {},
     "output_type": "display_data"
    }
   ],
   "source": [
    "#1 Venn Diagram\n",
    "from matplotlib_venn import venn2\n",
    "import matplotlib.pyplot as plt\n",
    "from sympy import FiniteSet\n",
    "\n",
    "def draw_venn(sets):\n",
    "    venn2(subsets = sets)\n",
    "    plt.show()\n",
    "if __name__ == \"__main__\":\n",
    "    s1 = FiniteSet(1, 3, 5, 7, 9, 11, 13, 15, 17, 19)\n",
    "    s2 = FiniteSet(2, 3, 5, 7, 11, 13, 17, 19)\n",
    "    draw_venn([s1, s2])"
   ]
  },
  {
   "cell_type": "code",
   "execution_count": 89,
   "id": "bbc29d16-d717-4a90-b8d1-6e9172b2c118",
   "metadata": {},
   "outputs": [
    {
     "ename": "TypeError",
     "evalue": "unsupported operand type(s) for -: 'list' and 'list'",
     "output_type": "error",
     "traceback": [
      "\u001b[31m---------------------------------------------------------------------------\u001b[39m",
      "\u001b[31mTypeError\u001b[39m                                 Traceback (most recent call last)",
      "\u001b[36mCell\u001b[39m\u001b[36m \u001b[39m\u001b[32mIn[89]\u001b[39m\u001b[32m, line 15\u001b[39m\n\u001b[32m     13\u001b[39m         others.append(row[\u001b[32m0\u001b[39m])\n\u001b[32m     14\u001b[39m sets = [football, others]\n\u001b[32m---> \u001b[39m\u001b[32m15\u001b[39m \u001b[43mvenn2\u001b[49m\u001b[43m(\u001b[49m\u001b[43msubsets\u001b[49m\u001b[43m=\u001b[49m\u001b[43msets\u001b[49m\u001b[43m)\u001b[49m\n\u001b[32m     16\u001b[39m plt.show()\n",
      "\u001b[36mFile \u001b[39m\u001b[32m~\\AppData\\Local\\Programs\\Python\\Python313\\Lib\\site-packages\\matplotlib_venn\\_venn2.py:159\u001b[39m, in \u001b[36mvenn2\u001b[39m\u001b[34m(subsets, set_labels, set_colors, alpha, normalize_to, ax, subset_label_formatter, layout_algorithm)\u001b[39m\n\u001b[32m    157\u001b[39m     subsets = [subsets.get(t, \u001b[32m0\u001b[39m) \u001b[38;5;28;01mfor\u001b[39;00m t \u001b[38;5;129;01min\u001b[39;00m [\u001b[33m\"\u001b[39m\u001b[33m10\u001b[39m\u001b[33m\"\u001b[39m, \u001b[33m\"\u001b[39m\u001b[33m01\u001b[39m\u001b[33m\"\u001b[39m, \u001b[33m\"\u001b[39m\u001b[33m11\u001b[39m\u001b[33m\"\u001b[39m]]\n\u001b[32m    158\u001b[39m \u001b[38;5;28;01melif\u001b[39;00m \u001b[38;5;28mlen\u001b[39m(subsets) == \u001b[32m2\u001b[39m:\n\u001b[32m--> \u001b[39m\u001b[32m159\u001b[39m     subsets = \u001b[43m_compute_subset_sizes\u001b[49m\u001b[43m(\u001b[49m\u001b[43m*\u001b[49m\u001b[43msubsets\u001b[49m\u001b[43m)\u001b[49m\n\u001b[32m    160\u001b[39m \u001b[38;5;28;01mif\u001b[39;00m normalize_to \u001b[38;5;129;01mis\u001b[39;00m \u001b[38;5;129;01mnot\u001b[39;00m \u001b[38;5;28;01mNone\u001b[39;00m:\n\u001b[32m    161\u001b[39m     \u001b[38;5;28;01mif\u001b[39;00m layout_algorithm \u001b[38;5;129;01mis\u001b[39;00m \u001b[38;5;28;01mNone\u001b[39;00m:\n",
      "\u001b[36mFile \u001b[39m\u001b[32m~\\AppData\\Local\\Programs\\Python\\Python313\\Lib\\site-packages\\matplotlib_venn\\_venn2.py:290\u001b[39m, in \u001b[36m_compute_subset_sizes\u001b[39m\u001b[34m(a, b)\u001b[39m\n\u001b[32m    286\u001b[39m     \u001b[38;5;28;01mraise\u001b[39;00m \u001b[38;5;167;01mValueError\u001b[39;00m(\u001b[33m\"\u001b[39m\u001b[33mBoth arguments must be of the same type\u001b[39m\u001b[33m\"\u001b[39m)\n\u001b[32m    287\u001b[39m set_size = (\n\u001b[32m    288\u001b[39m     \u001b[38;5;28mlen\u001b[39m \u001b[38;5;28;01mif\u001b[39;00m \u001b[38;5;28mtype\u001b[39m(a) != Counter \u001b[38;5;28;01melse\u001b[39;00m \u001b[38;5;28;01mlambda\u001b[39;00m x: \u001b[38;5;28msum\u001b[39m(x.values())\n\u001b[32m    289\u001b[39m )  \u001b[38;5;66;03m# We cannot use len to compute the cardinality of a Counter\u001b[39;00m\n\u001b[32m--> \u001b[39m\u001b[32m290\u001b[39m \u001b[38;5;28;01mreturn\u001b[39;00m (set_size(\u001b[43ma\u001b[49m\u001b[43m \u001b[49m\u001b[43m-\u001b[49m\u001b[43m \u001b[49m\u001b[43mb\u001b[49m), set_size(b - a), set_size(a & b))\n",
      "\u001b[31mTypeError\u001b[39m: unsupported operand type(s) for -: 'list' and 'list'"
     ]
    }
   ],
   "source": [
    "import csv\n",
    "from matplotlib_venn import venn2\n",
    "import matplotlib.pyplot as plt\n",
    "football = []\n",
    "others = []\n",
    "with open('sports.csv') as f:\n",
    "    reader = csv.reader(f)\n",
    "    next(reader)\n",
    "    for row in reader:\n",
    "        if row[1] == '1':\n",
    "            football.append(row[0])\n",
    "        if row[2] == '2':\n",
    "            others.append(row[0])\n",
    "    sets = [football, others]\n",
    "    venn2(subsets=sets)\n",
    "    plt.show()"
   ]
  },
  {
   "cell_type": "code",
   "execution_count": 78,
   "id": "918f0633-5db3-474e-9e76-8155985ca533",
   "metadata": {},
   "outputs": [
    {
     "name": "stdin",
     "output_type": "stream",
     "text": [
      "Enter your Starting amount:  10\n"
     ]
    },
    {
     "name": "stdout",
     "output_type": "stream",
     "text": [
      "Heads! Current amount: 11.0\n",
      "Heads! Current amount: 12.0\n",
      "Tails! Current amount: 10.5\n",
      "Tails! Current amount: 9.0\n",
      "Heads! Current amount: 10.0\n",
      "Heads! Current amount: 11.0\n",
      "Tails! Current amount: 9.5\n",
      "Tails! Current amount: 8.0\n",
      "Tails! Current amount: 6.5\n",
      "Heads! Current amount: 7.5\n",
      "Tails! Current amount: 6.0\n",
      "Tails! Current amount: 4.5\n",
      "Heads! Current amount: 5.5\n",
      "Heads! Current amount: 6.5\n",
      "Tails! Current amount: 5.0\n",
      "Tails! Current amount: 3.5\n",
      "Tails! Current amount: 2.0\n",
      "Tails! Current amount: 0.5\n",
      "Heads! Current amount: 1.5\n",
      "Heads! Current amount: 2.5\n",
      "Heads! Current amount: 3.5\n",
      "Heads! Current amount: 4.5\n",
      "Heads! Current amount: 5.5\n",
      "Tails! Current amount: 4.0\n",
      "Heads! Current amount: 5.0\n",
      "Tails! Current amount: 3.5\n",
      "Heads! Current amount: 4.5\n",
      "Heads! Current amount: 5.5\n",
      "Heads! Current amount: 6.5\n",
      "Tails! Current amount: 5.0\n",
      "Heads! Current amount: 6.0\n",
      "Tails! Current amount: 4.5\n",
      "Heads! Current amount: 5.5\n",
      "Tails! Current amount: 4.0\n",
      "Heads! Current amount: 5.0\n",
      "Heads! Current amount: 6.0\n",
      "Tails! Current amount: 4.5\n",
      "Tails! Current amount: 3.0\n",
      "Tails! Current amount: 1.5\n",
      "Tails! Current amount: 0.0\n",
      "Game Over: (Current amount: 0.0. Coin tosses: 40\n"
     ]
    }
   ],
   "source": [
    "#3\n",
    "import random\n",
    "s = ['Heads', 'Tails']\n",
    "amount = float(input('Enter your Starting amount: '))\n",
    "tosses = 0\n",
    "while amount > 0:\n",
    "    chosen = random.choice(s)\n",
    "    if chosen == 'Tails':\n",
    "        amount -= 1.50\n",
    "        tosses += 1\n",
    "        print(f\"Tails! Current amount: {amount}\")\n",
    "    elif chosen == 'Heads':\n",
    "        amount += 1\n",
    "        tosses += 1\n",
    "        print(f'Heads! Current amount: {amount}')\n",
    "print(f'Game Over: (Current amount: {amount}. Coin tosses: {tosses}')"
   ]
  },
  {
   "cell_type": "code",
   "execution_count": 90,
   "id": "0d78a341-4a23-4d90-b7cc-ab530ae6750c",
   "metadata": {},
   "outputs": [
    {
     "name": "stdout",
     "output_type": "stream",
     "text": [
      "[1, 3, 4, 2]\n"
     ]
    }
   ],
   "source": [
    "import random\n",
    "x = [1, 2,3, 4]\n",
    "random.shuffle(x)\n",
    "print(x)"
   ]
  },
  {
   "cell_type": "code",
   "execution_count": 103,
   "id": "05c0111c-b26f-4f18-a2aa-c4495104ec31",
   "metadata": {},
   "outputs": [
    {
     "name": "stdout",
     "output_type": "stream",
     "text": [
      "1 of clubs\n",
      "ace of clubs\n",
      "5 of spade\n"
     ]
    }
   ],
   "source": [
    "#4\n",
    "import random\n",
    "class Card:\n",
    "    def __init__(self, suit, rank):\n",
    "        self.suit = suit # ex: clubs\n",
    "        self.rank = rank # ex: ace\n",
    "    def __str__(self):\n",
    "        return f'{self.rank} of {self.suit}'\n",
    "\n",
    "# we can also use nested for loop to display all 52 cards\n",
    "card1 = Card('clubs', 'ace')\n",
    "card2 = Card('clubs', '1')\n",
    "card3 = Card('spade', '5')\n",
    "cards_lst = [card1, card2, card3]\n",
    "random.shuffle(cards_lst)\n",
    "for card in cards_lst:\n",
    "    print(card)"
   ]
  },
  {
   "cell_type": "code",
   "execution_count": null,
   "id": "7a35fce2-8e56-406e-9666-3fdcf3a36d5a",
   "metadata": {},
   "outputs": [],
   "source": []
  }
 ],
 "metadata": {
  "kernelspec": {
   "display_name": "Python 3 (ipykernel)",
   "language": "python",
   "name": "python3"
  },
  "language_info": {
   "codemirror_mode": {
    "name": "ipython",
    "version": 3
   },
   "file_extension": ".py",
   "mimetype": "text/x-python",
   "name": "python",
   "nbconvert_exporter": "python",
   "pygments_lexer": "ipython3",
   "version": "3.13.0"
  }
 },
 "nbformat": 4,
 "nbformat_minor": 5
}
