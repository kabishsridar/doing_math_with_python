{
 "cells": [
  {
   "cell_type": "code",
   "execution_count": 33,
   "id": "c6982bd9-2de1-4a21-8c65-d96d79b75f1e",
   "metadata": {},
   "outputs": [],
   "source": [
    "from sympy import Symbol, factor, expand, pprint, init_printing, simplify\n",
    "from sympy.core.sympify import SympifyError"
   ]
  },
  {
   "cell_type": "code",
   "execution_count": 9,
   "id": "e9b346b0-decc-474a-b3b9-f8ea908423e4",
   "metadata": {},
   "outputs": [
    {
     "name": "stdout",
     "output_type": "stream",
     "text": [
      "2*X + 1\n"
     ]
    }
   ],
   "source": [
    "x = Symbol('X')\n",
    "print(x + x + 1)\n",
    "y = Symbol('y')"
   ]
  },
  {
   "cell_type": "code",
   "execution_count": 13,
   "id": "4e55c82b-3aa3-48a9-bdf4-8bbee6c31892",
   "metadata": {},
   "outputs": [
    {
     "name": "stdout",
     "output_type": "stream",
     "text": [
      "-(-X + y)*(X + y)\n"
     ]
    }
   ],
   "source": [
    "expr = x**2 - y**2\n",
    "fac =(factor(expr))\n",
    "print(fac)"
   ]
  },
  {
   "cell_type": "code",
   "execution_count": 15,
   "id": "10ea8964-9314-4310-8a48-7220b9388b4b",
   "metadata": {},
   "outputs": [
    {
     "name": "stdout",
     "output_type": "stream",
     "text": [
      "X**2 - y**2\n"
     ]
    }
   ],
   "source": [
    "exp = expand(fac)\n",
    "print(exp)"
   ]
  },
  {
   "cell_type": "code",
   "execution_count": 20,
   "id": "a1c657b8-64f6-459f-8f62-009a632fc727",
   "metadata": {},
   "outputs": [
    {
     "name": "stdout",
     "output_type": "stream",
     "text": [
      "   2          \n",
      "2⋅X  + 2⋅X + 1\n"
     ]
    }
   ],
   "source": [
    "expr = 1 + 2*x + 2*x**2\n",
    "pprint(expr)"
   ]
  },
  {
   "cell_type": "code",
   "execution_count": 21,
   "id": "8465735f-c3b1-4eb6-b61a-443b47d7bf44",
   "metadata": {},
   "outputs": [
    {
     "name": "stdout",
     "output_type": "stream",
     "text": [
      "             2\n",
      "1 + 2⋅X + 2⋅X \n"
     ]
    }
   ],
   "source": [
    "init_printing(order='rev-lex')\n",
    "pprint(expr)"
   ]
  },
  {
   "cell_type": "code",
   "execution_count": 22,
   "id": "6419a792-68cc-4012-9746-a72236b9a222",
   "metadata": {},
   "outputs": [
    {
     "name": "stdin",
     "output_type": "stream",
     "text": [
      "Enter the number of terms you want in the series:  2\n"
     ]
    },
    {
     "name": "stdout",
     "output_type": "stream",
     "text": [
      "     2\n",
      "    X \n",
      "X + ──\n",
      "    2 \n"
     ]
    }
   ],
   "source": [
    "def print_series(n):\n",
    "    init_printing(order='rev-lex')\n",
    "    x = Symbol('X')\n",
    "    series = x\n",
    "    for i in range(2, n+1):\n",
    "        series = series + (x**i)/i\n",
    "    pprint(series)\n",
    "\n",
    "if __name__ == \"__main__\":\n",
    "    n = int(input('Enter the number of terms you want in the series: '))\n",
    "    print_series(n)"
   ]
  },
  {
   "cell_type": "code",
   "execution_count": 24,
   "id": "03272037-58a0-4de8-812d-04c38e0cbe46",
   "metadata": {},
   "outputs": [
    {
     "name": "stdout",
     "output_type": "stream",
     "text": [
      "9\n"
     ]
    }
   ],
   "source": [
    "expr = x*x + x*y + x*y + y*y\n",
    "sub = expr.subs({x:1, y:2})\n",
    "print(sub)"
   ]
  },
  {
   "cell_type": "code",
   "execution_count": 27,
   "id": "8b38127a-d26c-4160-b850-d55a8e3f93ec",
   "metadata": {},
   "outputs": [
    {
     "name": "stdout",
     "output_type": "stream",
     "text": [
      "1\n"
     ]
    }
   ],
   "source": [
    "expr_subs = expr.subs({x:1-y})\n",
    "simplified = simplify(expr_subs)\n",
    "print(simplified)"
   ]
  },
  {
   "cell_type": "code",
   "execution_count": 32,
   "id": "0f4e9444-4fc1-4124-8d83-428ff714275e",
   "metadata": {},
   "outputs": [
    {
     "name": "stdin",
     "output_type": "stream",
     "text": [
      "Enter the number of terms you want in the series:  5\n",
      "Enter the value of x at which you want to evaluate the series:  1.2\n"
     ]
    },
    {
     "name": "stdout",
     "output_type": "stream",
     "text": [
      "     2    3    4    5\n",
      "    X    X    X    X \n",
      "X + ── + ── + ── + ──\n",
      "    2    3    4    5 \n",
      "Value of the series at 1.2: 3.51206400000000\n"
     ]
    }
   ],
   "source": [
    "def print_series(n, x_values):\n",
    "    init_printing(order='rev-lex')\n",
    "\n",
    "    x = Symbol('X')\n",
    "    series = x\n",
    "    for i in range(2, n + 1):\n",
    "        series = series + (x**i) / i\n",
    "    pprint(series)\n",
    "\n",
    "    series_value = series.subs({x:x_value})\n",
    "    print(f'Value of the series at {x_value}: {series_value}')\n",
    "if __name__ == \"__main__\":\n",
    "    n = input('Enter the number of terms you want in the series: ')\n",
    "    x_value = input('Enter the value of x at which you want to evaluate the series: ')\n",
    "    print_series(int(n), float(x_value))"
   ]
  },
  {
   "cell_type": "code",
   "execution_count": null,
   "id": "dba7c4c3-77ec-4eaa-acac-267fb648fa5e",
   "metadata": {},
   "outputs": [],
   "source": [
    "def prouct(expr1, expr2):\n",
    "    prod = expand(expr1 * expr2)\n",
    "    print(prod)\n",
    "if __name__ == \"__main__\":\n",
    "    expr1 = input('Enter the first expression: ')\n",
    "    exr"
   ]
  }
 ],
 "metadata": {
  "kernelspec": {
   "display_name": "Python 3 (ipykernel)",
   "language": "python",
   "name": "python3"
  },
  "language_info": {
   "codemirror_mode": {
    "name": "ipython",
    "version": 3
   },
   "file_extension": ".py",
   "mimetype": "text/x-python",
   "name": "python",
   "nbconvert_exporter": "python",
   "pygments_lexer": "ipython3",
   "version": "3.13.0"
  }
 },
 "nbformat": 4,
 "nbformat_minor": 5
}
